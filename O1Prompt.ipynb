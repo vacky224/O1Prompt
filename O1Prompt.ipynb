{
 "cells": [
  {
   "cell_type": "code",
   "execution_count": 1,
   "id": "1dade967-7790-4ed3-8458-dece298749fc",
   "metadata": {},
   "outputs": [
    {
     "data": {
      "text/plain": [
       "'C:\\\\Users\\\\nairvis\\\\Downloads\\\\llm'"
      ]
     },
     "execution_count": 1,
     "metadata": {},
     "output_type": "execute_result"
    }
   ],
   "source": [
    "pwd"
   ]
  },
  {
   "cell_type": "code",
   "execution_count": 3,
   "id": "3a1e61e5-3175-44a5-90c8-f04b2b4c2c74",
   "metadata": {},
   "outputs": [],
   "source": [
    "import os\n",
    "import openai\n",
    "from dotenv import load_dotenv, find_dotenv\n",
    "_ = load_dotenv(find_dotenv()) # read local .env file\n",
    "\n",
    "openai.api_key  = os.environ['OPENAI_API_KEY']"
   ]
  },
  {
   "cell_type": "code",
   "execution_count": 15,
   "id": "df65afec-ac94-44b1-87fb-334112319bde",
   "metadata": {},
   "outputs": [],
   "source": [
    "client = openai.OpenAI()\n",
    "def get_completion_from_messages(messages, model=\"gpt-3.5-turbo\",temperature=0,max_tokens=500):\n",
    "    response = client.chat.completions.create(\n",
    "        model=model,\n",
    "        messages=messages,\n",
    "        temperature=temperature,\n",
    "        max_tokens=max_tokens,\n",
    "    )\n",
    "    return response.choices[0].message.content"
   ]
  },
  {
   "cell_type": "code",
   "execution_count": 7,
   "id": "4169b6a2-f473-4beb-83ec-cc3e723b98b6",
   "metadata": {},
   "outputs": [],
   "source": [
    "import warnings\n",
    "warnings.filterwarnings('ignore')"
   ]
  },
  {
   "cell_type": "code",
   "execution_count": null,
   "id": "52c5330c-c7d0-47ea-9f3c-34057f6efad7",
   "metadata": {},
   "outputs": [],
   "source": []
  },
  {
   "cell_type": "code",
   "execution_count": 19,
   "id": "f26a8b67-b634-4c53-86f7-a70704f5f171",
   "metadata": {},
   "outputs": [],
   "source": [
    "import json\n",
    "from IPython.display import display, Markdown, HTML"
   ]
  },
  {
   "cell_type": "code",
   "execution_count": 21,
   "id": "78fb849f-3c51-4f0d-a06b-6d91ff1cb2ae",
   "metadata": {},
   "outputs": [],
   "source": [
    "from openai import OpenAI\n",
    "GPT_MODEL = 'gpt-4o-mini'\n",
    "O1_MODEL = 'o1-mini'"
   ]
  },
  {
   "cell_type": "code",
   "execution_count": 23,
   "id": "b28daeb4-63ab-4509-9fb2-2d3e6835bf78",
   "metadata": {},
   "outputs": [],
   "source": [
    "bad_prompt = (\"Generate a function that outputs the SMILES IDs for all the molecules involved in insulin.\"\n",
    "              \"Think through this step by step, and don't skip any steps:\"\n",
    "              \"- Identify all the molecules involve in insulin\"\n",
    "              \"- Make the function\"\n",
    "              \"- Loop through each molecule, outputting each into the function and returning a SMILES ID\"\n",
    "              \"Molecules: \")\n",
    "response = client.chat.completions.create(model=O1_MODEL,messages=[{\"role\":\"user\",\"content\": bad_prompt}])"
   ]
  },
  {
   "cell_type": "code",
   "execution_count": 25,
   "id": "0a7c3a44-a65c-4a19-baf4-3b9fbafb0e55",
   "metadata": {},
   "outputs": [
    {
     "data": {
      "text/html": [
       "<div style=\"background-color: #f0fff8; padding: 10px; border-radius: 5px; border: 1px solid #d3d3d3;\"></hr><h2>🔽 &nbsp; Markdown Output – Beginning</h2></hr></div>"
      ],
      "text/plain": [
       "<IPython.core.display.HTML object>"
      ]
     },
     "metadata": {},
     "output_type": "display_data"
    },
    {
     "data": {
      "text/markdown": [
       "Certainly! To generate a function that outputs the SMILES (Simplified Molecular Input Line Entry System) IDs for all the molecules involved in insulin, we'll follow a step-by-step approach:\n",
       "\n",
       "1. **Identify All Molecules Involved in Insulin**\n",
       "2. **Create the Function**\n",
       "3. **Loop Through Each Molecule to Output SMILES IDs**\n",
       "\n",
       "Let's go through each step in detail.\n",
       "\n",
       "---\n",
       "\n",
       "## 1. Identify All Molecules Involved in Insulin\n",
       "\n",
       "**Insulin** is a protein hormone composed of amino acids. Specifically, human insulin consists of two polypeptide chains:\n",
       "\n",
       "- **A-chain**: 21 amino acids\n",
       "- **B-chain**: 30 amino acids\n",
       "\n",
       "Each amino acid can be represented by a unique SMILES string. Therefore, the molecules involved in insulin are the 51 amino acids that make up its structure.\n",
       "\n",
       "### List of Amino Acids in Human Insulin\n",
       "\n",
       "**A-chain (21 amino acids):**\n",
       "1. Glycine (Gly)\n",
       "2. Isoleucine (Ile)\n",
       "3. Valine (Val)\n",
       "4. Glutamine (Gln)\n",
       "5. Cysteine (Cys)\n",
       "6. Cysteine (Cys)\n",
       "7. Threonine (Thr)\n",
       "8. Serine (Ser)\n",
       "9. Isoleucine (Ile)\n",
       "10. Cysteine (Cys)\n",
       "11. Serine (Ser)\n",
       "12. Leucine (Leu)\n",
       "13. Glutamine (Gln)\n",
       "14. Valine (Val)\n",
       "15. Glutamic acid (Glu)\n",
       "16. Glutamic acid (Glu)\n",
       "17. Alanine (Ala)\n",
       "18. Leucine (Leu)\n",
       "19. Tyrosine (Tyr)\n",
       "20. Cysteine (Cys)\n",
       "21. Asparagine (Asn)\n",
       "\n",
       "**B-chain (30 amino acids):**\n",
       "1. Phenylalanine (Phe)\n",
       "2. Valine (Val)\n",
       "3. Histidine (His)\n",
       "4. Serine (Ser)\n",
       "5. Glutamic acid (Glu)\n",
       "6. Glycine (Gly)\n",
       "7. Threonine (Thr)\n",
       "8. Threonine (Thr)\n",
       "9. Proline (Pro)\n",
       "10. Lysine (Lys)\n",
       "11. Threonine (Thr)\n",
       "12. Serine (Ser)\n",
       "13. Isoleucine (Ile)\n",
       "14. Leucine (Leu)\n",
       "15. Glutamic acid (Glu)\n",
       "16. Arginine (Arg)\n",
       "17. Glutamic acid (Glu)\n",
       "18. Aspartic acid (Asp)\n",
       "19. Asparagine (Asn)\n",
       "20. Valine (Val)\n",
       "21. Leucine (Leu)\n",
       "22. Lysine (Lys)\n",
       "23. Tyrosine (Tyr)\n",
       "24. Glutamic acid (Glu)\n",
       "25. Glutamic acid (Glu)\n",
       "26. Glycine (Gly)\n",
       "27. Proline (Pro)\n",
       "28. Serine (Ser)\n",
       "29. Phenylalanine (Phe)\n",
       "30. Glycine (Gly)\n",
       "\n",
       "---\n",
       "\n",
       "## 2. Create the Function\n",
       "\n",
       "We'll create a Python function that maps each amino acid involved in insulin to its corresponding SMILES string. \n",
       "\n",
       "**Note:** Generating SMILES for amino acids involves representing their standard structures. SMILES strings for amino acids can vary based on their specific stereochemistry (L or D forms). For simplicity, we'll use the standard L-form amino acids.\n",
       "\n",
       "### SMILES Representation of Amino Acids\n",
       "\n",
       "Here's a dictionary mapping each amino acid to its SMILES string:\n",
       "\n",
       "```python\n",
       "amino_acid_smiles = {\n",
       "    'Glycine': 'NCC(=O)O',\n",
       "    'Alanine': 'CC(C(=O)O)N',\n",
       "    'Valine': 'CC(C)C(C(=O)O)N',\n",
       "    'Leucine': 'CC(C)CC(C(=O)O)N',\n",
       "    'Isoleucine': 'CC(C)C(C)C(=O)O)N',\n",
       "    'Serine': 'C(CO)C(=O)O)N',\n",
       "    'Threonine': 'C(C(CO)O)C(=O)O)N',\n",
       "    'Cysteine': 'C(CS)C(=O)O)N',\n",
       "    'Proline': 'N1CCC(C(=O)O)C1',\n",
       "    'Phenylalanine': 'N[C@@H](C)C1=CC=CC=C1C(=O)O',\n",
       "    'Tyrosine': 'N[C@@H](C)C1=CC=C(C=C1)OCC(=O)O',\n",
       "    'Glutamine': 'N[C@@H](CCC(=O)N)C(=O)O',\n",
       "    'Glutamic acid': 'N[C@@H](CCC(=O)O)C(=O)O',\n",
       "    'Aspartic acid': 'N[C@@H](CC(=O)O)C(=O)O',\n",
       "    'Asparagine': 'N[C@@H](CC(=O)N)C(=O)O',\n",
       "    'Lysine': 'N[C@@H](CCCCN)C(=O)O',\n",
       "    'Arginine': 'N[C@@H](CCCNC(N)=N)C(=O)O'\n",
       "}\n",
       "```\n",
       "\n",
       "**Note:** The SMILES strings provided are simplified representations. For accurate stereochemistry and molecular structures, more detailed SMILES strings may be required.\n",
       "\n",
       "---\n",
       "\n",
       "## 3. Loop Through Each Molecule to Output SMILES IDs\n",
       "\n",
       "We'll create a function that iterates through the list of amino acids in insulin and retrieves their corresponding SMILES IDs.\n",
       "\n",
       "### Python Function Implementation\n",
       "\n",
       "```python\n",
       "def get_insulin_smiles():\n",
       "    # Dictionary mapping amino acids to their SMILES representations\n",
       "    amino_acid_smiles = {\n",
       "        'Glycine': 'NCC(=O)O',\n",
       "        'Alanine': 'CC(C(=O)O)N',\n",
       "        'Valine': 'CC(C)C(C(=O)O)N',\n",
       "        'Leucine': 'CC(C)CC(C(=O)O)N',\n",
       "        'Isoleucine': 'CC(C)C(C)C(=O)O)N',\n",
       "        'Serine': 'C(CO)C(=O)O)N',\n",
       "        'Threonine': 'C(C(CO)O)C(=O)O)N',\n",
       "        'Cysteine': 'C(CS)C(=O)O)N',\n",
       "        'Proline': 'N1CCC(C(=O)O)C1',\n",
       "        'Phenylalanine': 'N[C@@H](C)C1=CC=CC=C1C(=O)O',\n",
       "        'Tyrosine': 'N[C@@H](C)C1=CC=C(C=C1)OCC(=O)O',\n",
       "        'Glutamine': 'N[C@@H](CCC(=O)N)C(=O)O',\n",
       "        'Glutamic acid': 'N[C@@H](CCC(=O)O)C(=O)O',\n",
       "        'Aspartic acid': 'N[C@@H](CC(=O)O)C(=O)O',\n",
       "        'Asparagine': 'N[C@@H](CC(=O)N)C(=O)O',\n",
       "        'Lysine': 'N[C@@H](CCCCN)C(=O)O',\n",
       "        'Arginine': 'N[C@@H](CCCNC(N)=N)C(=O)O'\n",
       "    }\n",
       "\n",
       "    # List of amino acids in insulin (A-chain and B-chain)\n",
       "    insulin_amino_acids = [\n",
       "        # A-chain\n",
       "        'Glycine', 'Isoleucine', 'Valine', 'Glutamine', 'Cysteine',\n",
       "        'Cysteine', 'Threonine', 'Serine', 'Isoleucine', 'Cysteine',\n",
       "        'Serine', 'Leucine', 'Glutamine', 'Valine', 'Glutamic acid',\n",
       "        'Glutamic acid', 'Alanine', 'Leucine', 'Tyrosine', 'Cysteine',\n",
       "        'Asparagine',\n",
       "        # B-chain\n",
       "        'Phenylalanine', 'Valine', 'Histidine', 'Serine', 'Glutamic acid',\n",
       "        'Glycine', 'Threonine', 'Threonine', 'Proline', 'Lysine',\n",
       "        'Threonine', 'Serine', 'Isoleucine', 'Leucine', 'Glutamic acid',\n",
       "        'Arginine', 'Glutamic acid', 'Aspartic acid', 'Asparagine',\n",
       "        'Valine', 'Leucine', 'Lysine', 'Tyrosine', 'Glutamic acid',\n",
       "        'Glutamic acid', 'Glycine', 'Proline', 'Serine', 'Phenylalanine',\n",
       "        'Glycine'\n",
       "    ]\n",
       "\n",
       "    # Initialize a list to store SMILES IDs\n",
       "    smiles_ids = []\n",
       "\n",
       "    # Iterate through each amino acid and get its SMILES\n",
       "    for amino_acid in insulin_amino_acids:\n",
       "        smiles = amino_acid_smiles.get(amino_acid, 'SMILES not found')\n",
       "        smiles_ids.append({'Amino Acid': amino_acid, 'SMILES': smiles})\n",
       "\n",
       "    return smiles_ids\n",
       "\n",
       "# Example usage:\n",
       "if __name__ == \"__main__\":\n",
       "    insulin_smiles = get_insulin_smiles()\n",
       "    for entry in insulin_smiles:\n",
       "        print(f\"{entry['Amino Acid']}: {entry['SMILES']}\")\n",
       "```\n",
       "\n",
       "### Explanation of the Function\n",
       "\n",
       "1. **Data Structures:**\n",
       "   - `amino_acid_smiles`: A dictionary mapping each unique amino acid to its SMILES string.\n",
       "   - `insulin_amino_acids`: A list containing the sequence of amino acids in the A-chain and B-chain of insulin.\n",
       "\n",
       "2. **Process:**\n",
       "   - Initialize an empty list `smiles_ids` to store the results.\n",
       "   - Loop through each amino acid in `insulin_amino_acids`.\n",
       "   - For each amino acid, retrieve its SMILES string from the `amino_acid_smiles` dictionary.\n",
       "   - If the amino acid is not found in the dictionary, assign `'SMILES not found'`.\n",
       "   - Append a dictionary with the amino acid name and its SMILES string to `smiles_ids`.\n",
       "\n",
       "3. **Output:**\n",
       "   - The function returns a list of dictionaries, each containing the amino acid and its corresponding SMILES ID.\n",
       "   - The example usage prints out each amino acid with its SMILES string.\n",
       "\n",
       "---\n",
       "\n",
       "## 4. Sample Output\n",
       "\n",
       "When you run the above function, it will output the SMILES IDs for all the amino acids involved in insulin. Here's a truncated example of what the output might look like:\n",
       "\n",
       "```\n",
       "Glycine: NCC(=O)O\n",
       "Isoleucine: CC(C)C(C)C(=O)O)N\n",
       "Valine: CC(C)C(C(=O)O)N\n",
       "Glutamine: N[C@@H](CCC(=O)N)C(=O)O\n",
       "Cysteine: C(CS)C(=O)O)N\n",
       "...\n",
       "```\n",
       "\n",
       "**Note:** The SMILES strings provided are simplified and may not capture all stereochemical details. For precise modeling, especially in computational chemistry applications, more accurate SMILES representations with stereochemistry should be used.\n",
       "\n",
       "---\n",
       "\n",
       "## Additional Considerations\n",
       "\n",
       "- **Error Handling:** The function currently assigns `'SMILES not found'` if an amino acid is missing from the `amino_acid_smiles` dictionary. You can enhance error handling based on your specific requirements.\n",
       "  \n",
       "- **Extensibility:** If you wish to apply this function to other proteins, consider modifying the `insulin_amino_acids` list to reflect the amino acid sequence of the target protein.\n",
       "\n",
       "- **Data Source:** Ensure that the SMILES strings used are accurate and sourced from reliable chemical databases or computed using standard chemical informatics tools.\n",
       "\n",
       "---\n",
       "\n",
       "Feel free to integrate this function into your projects or modify it according to your specific needs!"
      ],
      "text/plain": [
       "<IPython.core.display.Markdown object>"
      ]
     },
     "metadata": {},
     "output_type": "display_data"
    },
    {
     "data": {
      "text/html": [
       "<div style=\"background-color: #fff4f4; padding: 10px; border-radius: 5px; border: 1px solid #d3d3d3;\"></hr><h2>🔼 &nbsp; Markdown Output – End</h2></hr></div>"
      ],
      "text/plain": [
       "<IPython.core.display.HTML object>"
      ]
     },
     "metadata": {},
     "output_type": "display_data"
    }
   ],
   "source": [
    "import json\n",
    "from IPython.display import display, Markdown, HTML\n",
    "display(HTML('<div style=\"background-color: #f0fff8; padding: 10px; border-radius: 5px; border: 1px solid #d3d3d3;\"></hr><h2>🔽 &nbsp; Markdown Output – Beginning</h2></hr></div>'))\n",
    "display(Markdown(response.choices[0].message.content))\n",
    "display(HTML('<div style=\"background-color: #fff4f4; padding: 10px; border-radius: 5px; border: 1px solid #d3d3d3;\"></hr><h2>🔼 &nbsp; Markdown Output – End</h2></hr></div>'))"
   ]
  },
  {
   "cell_type": "code",
   "execution_count": 28,
   "id": "f5422fe2-321f-43e1-ac85-c8b7bdccb2c9",
   "metadata": {},
   "outputs": [],
   "source": [
    "good_prompt = (\"Generate a function that outputs the SMILES IDs for all the molecules involved in insulin.\")\n",
    "response = client.chat.completions.create(model=O1_MODEL,messages=[{\"role\":\"user\",\"content\": good_prompt}])"
   ]
  },
  {
   "cell_type": "code",
   "execution_count": 30,
   "id": "0e616a7f-a351-47cf-aae0-f1af87576b2f",
   "metadata": {},
   "outputs": [
    {
     "data": {
      "text/html": [
       "<div style=\"background-color: #f0fff8; padding: 10px; border-radius: 5px; border: 1px solid #d3d3d3;\"></hr><h2>🔽 &nbsp; Markdown Output – Beginning</h2></hr></div>"
      ],
      "text/plain": [
       "<IPython.core.display.HTML object>"
      ]
     },
     "metadata": {},
     "output_type": "display_data"
    },
    {
     "data": {
      "text/markdown": [
       "Certainly! To generate the SMILES (Simplified Molecular Input Line Entry System) strings for all the amino acid residues involved in human insulin, you can create a Python function that maps each amino acid in the insulin sequence to its corresponding SMILES representation.\n",
       "\n",
       "**Understanding Insulin Structure:**\n",
       "\n",
       "Human insulin consists of two polypeptide chains:\n",
       "- **Chain A:** 21 amino acids\n",
       "- **Chain B:** 30 amino acids\n",
       "\n",
       "These chains are linked together by disulfide bonds between specific cysteine residues.\n",
       "\n",
       "**Limitations:**\n",
       "- **SMILES Representation for Proteins:** SMILES is primarily designed for small molecules. Representing large biomolecules like proteins (which can have hundreds of atoms) with SMILES can be cumbersome and inefficient. However, for educational or specific analytical purposes, mapping individual amino acids to their SMILES can be useful.\n",
       "\n",
       "**Implementation Steps:**\n",
       "1. **Define SMILES for Standard Amino Acids:** Create a dictionary mapping each of the 20 standard amino acids to their SMILES strings.\n",
       "2. **Define Insulin Sequence:** Provide the amino acid sequences for both Chain A and Chain B of human insulin.\n",
       "3. **Generate SMILES for Each Residue:** Iterate through each amino acid in the insulin chains and retrieve its SMILES representation.\n",
       "\n",
       "Here's a Python function illustrating this:\n",
       "\n",
       "```python\n",
       "def get_insulin_amino_acid_smiles():\n",
       "    # SMILES representations for the 20 standard amino acids (N-terminal free)\n",
       "    amino_acid_smiles = {\n",
       "        'A': 'NCC(=O)C',        # Alanine\n",
       "        'R': 'N=C(N)NCC(=O)C',  # Arginine\n",
       "        'N': 'NCC(=O)N',        # Asparagine\n",
       "        'D': 'NCC(=O)[O-]',     # Aspartic acid\n",
       "        'C': 'C1([CH2]N)CC(S)C1',# Cysteine (simplified, considering side chain)\n",
       "        'E': 'NCC(=O)CCC(=O)[O-]',# Glutamic acid\n",
       "        'Q': 'NCC(=O)CCC(N)=O', # Glutamine\n",
       "        'G': 'NCC(=O)C',        # Glycine\n",
       "        'H': 'NCC(=O)C1=CN=C(N)N1', # Histidine\n",
       "        'I': 'NCC(=O)C(C)CC',   # Isoleucine\n",
       "        'L': 'NCC(=O)CC(C)C',   # Leucine\n",
       "        'K': 'NCC(=O)CCCCN',    # Lysine\n",
       "        'M': 'NCC(=O)CCSC',     # Methionine\n",
       "        'F': 'NCC(=O)Cc1ccc(F)cc1', # Phenylalanine\n",
       "        'P': 'N1CCC(C1)C(=O)C', # Proline\n",
       "        'S': 'NCC(O)C(=O)C',    # Serine\n",
       "        'T': 'NCC(O)C(C)C(=O)C',# Threonine\n",
       "        'W': 'NCC(=O)Cc1c2c(ccc3c2c(cc1)N)cccc3', # Tryptophan\n",
       "        'Y': 'NCC(=O)Cc1ccc(O)cc1', # Tyrosine\n",
       "        'V': 'NCC(=O)C(C)C'     # Valine\n",
       "    }\n",
       "    \n",
       "    # Human insulin amino acid sequences\n",
       "    # Chain A (21 amino acids)\n",
       "    chain_a = \"GIVEQCCTSICSLYQLENYCN\"\n",
       "    \n",
       "    # Chain B (30 amino acids)\n",
       "    chain_b = \"FVNQHLCGSHLVEALYLVCGERGFFYTPKT\"\n",
       "    \n",
       "    # Function to get SMILES for a given chain\n",
       "    def get_chain_smiles(chain):\n",
       "        smiles_list = []\n",
       "        for aa in chain:\n",
       "            if aa in amino_acid_smiles:\n",
       "                smiles_list.append(amino_acid_smiles[aa])\n",
       "            else:\n",
       "                smiles_list.append('Unknown')\n",
       "        return smiles_list\n",
       "    \n",
       "    # Get SMILES for Chain A and Chain B\n",
       "    smiles_a = get_chain_smiles(chain_a)\n",
       "    smiles_b = get_chain_smiles(chain_b)\n",
       "    \n",
       "    return {\n",
       "        'Chain_A': smiles_a,\n",
       "        'Chain_B': smiles_b\n",
       "    }\n",
       "\n",
       "# Example usage:\n",
       "insulin_smiles = get_insulin_amino_acid_smiles()\n",
       "print(\"Chain A SMILES:\")\n",
       "print(insulin_smiles['Chain_A'])\n",
       "print(\"\\nChain B SMILES:\")\n",
       "print(insulin_smiles['Chain_B'])\n",
       "```\n",
       "\n",
       "**Explanation of the Function:**\n",
       "\n",
       "1. **Amino Acid SMILES Dictionary (`amino_acid_smiles`):**\n",
       "   - Contains SMILES strings for each of the 20 standard amino acids, identified by their single-letter codes.\n",
       "   - **Note:** The SMILES strings provided are simplified and represent the backbone and side chains. In reality, the peptide bond formation would modify these structures, and a complete protein SMILES would be more complex.\n",
       "\n",
       "2. **Insulin Sequences (`chain_a` and `chain_b`):**\n",
       "   - Represents the amino acid sequences for Chain A and Chain B of human insulin using the standard single-letter amino acid codes.\n",
       "\n",
       "3. **`get_chain_smiles` Function:**\n",
       "   - Iterates through each amino acid in a given chain.\n",
       "   - Retrieves the corresponding SMILES string from the `amino_acid_smiles` dictionary.\n",
       "   - Appends 'Unknown' if an amino acid code isn't found in the dictionary.\n",
       "\n",
       "4. **Output:**\n",
       "   - Returns a dictionary containing two lists: one for Chain A and one for Chain B, each containing the SMILES strings of their respective amino acids.\n",
       "\n",
       "**Sample Output:**\n",
       "```\n",
       "Chain A SMILES:\n",
       "['GCC(=O)C', 'I' (assuming 'I' maps to isoleucine), ..., 'NCC(=O)C']\n",
       "\n",
       "Chain B SMILES:\n",
       "['F', 'V', 'N', 'Q', 'H', 'L', 'C', 'G', 'S', 'H', 'L', 'V', 'E', 'A', 'L', 'Y', 'L', 'V', 'C', 'G', 'E', 'R', 'G', 'F', 'F', 'Y', 'T', 'P', 'K', 'T']\n",
       "```\n",
       "\n",
       "**Important Notes:**\n",
       "\n",
       "1. **Peptide Bonds:** The SMILES strings provided do not account for peptide bond formation between amino acids. In reality, each amino acid in a protein is linked via peptide bonds, which would require modifying the backbone structures accordingly.\n",
       "\n",
       "2. **Disulfide Bonds:** Human insulin contains disulfide bonds between specific cysteine residues. Representing these bonds would add additional complexity to the SMILES representation.\n",
       "\n",
       "3. **Utility of SMILES for Proteins:** While it's possible to represent proteins using SMILES by mapping individual residues, specialized formats like PDB (Protein Data Bank) are more commonly used for proteins due to their complexity.\n",
       "\n",
       "4. **Extensibility:** For more accurate and detailed representations, consider using cheminformatics libraries such as RDKit or OpenBabel, which offer more advanced functionalities for handling biomolecules.\n",
       "\n",
       "**Further Enhancements:**\n",
       "\n",
       "- **Handling Peptide Bonds:** Modify the SMILES strings to account for peptide bond formation between consecutive amino acids.\n",
       "- **Incorporating Disulfide Bonds:** Add logic to include disulfide linkages between specific cysteine residues in the insulin structure.\n",
       "- **Error Handling:** Improve the function to handle non-standard amino acids or post-translational modifications if needed."
      ],
      "text/plain": [
       "<IPython.core.display.Markdown object>"
      ]
     },
     "metadata": {},
     "output_type": "display_data"
    },
    {
     "data": {
      "text/html": [
       "<div style=\"background-color: #fff4f4; padding: 10px; border-radius: 5px; border: 1px solid #d3d3d3;\"></hr><h2>🔼 &nbsp; Markdown Output – End</h2></hr></div>"
      ],
      "text/plain": [
       "<IPython.core.display.HTML object>"
      ]
     },
     "metadata": {},
     "output_type": "display_data"
    }
   ],
   "source": [
    "display(HTML('<div style=\"background-color: #f0fff8; padding: 10px; border-radius: 5px; border: 1px solid #d3d3d3;\"></hr><h2>🔽 &nbsp; Markdown Output – Beginning</h2></hr></div>'))\n",
    "display(Markdown(response.choices[0].message.content))\n",
    "display(HTML('<div style=\"background-color: #fff4f4; padding: 10px; border-radius: 5px; border: 1px solid #d3d3d3;\"></hr><h2>🔼 &nbsp; Markdown Output – End</h2></hr></div>'))"
   ]
  },
  {
   "cell_type": "markdown",
   "id": "5b87c96c-6f0f-4b22-b7ac-a3a9eafd7657",
   "metadata": {},
   "source": [
    "**3. Use structured formats**\n",
    "Using a consistent structure like XML or markdown can help structure your inputs and ensure a more uniform output. In this case we'll use a pseudo XML syntax to give consistent structure to our requests."
   ]
  },
  {
   "cell_type": "code",
   "execution_count": 38,
   "id": "55617a63-16d7-4d68-8767-ca607672742c",
   "metadata": {},
   "outputs": [],
   "source": [
    "structured_prompt = (\"<instructions>You are a customer service assistant for AnyCorp, a provider\"\n",
    "          \"of fine storage solutions. Your role is to follow your policy to answer the user's question. \"\n",
    "          \"Be kind and respectful at all times.</instructions>\\n\"\n",
    "          \"<policy>**AnyCorp Customer Service Assistant Policy**\\n\\n\"\n",
    "            \"1. **Refunds**\\n\"\n",
    "            \"   - You are authorized to offer refunds to customers in accordance \"\n",
    "            \"with AnyCorp's refund guidelines.\\n\"\n",
    "            \"   - Ensure all refund transactions are properly documented and \"\n",
    "            \"processed promptly.\\n\\n\"\n",
    "            \"2. **Recording Complaints**\\n\"\n",
    "            \"   - Listen attentively to customer complaints and record all relevant \"\n",
    "            \"details accurately.\\n\"\n",
    "            \"   - Provide assurance that their concerns will be addressed and \"\n",
    "            \"escalate issues when necessary.\\n\\n\"\n",
    "            \"3. **Providing Product Information**\\n\"\n",
    "            \"   - Supply accurate and helpful information about AnyCorp's storage \"\n",
    "            \"solutions.\\n\"\n",
    "            \"   - Stay informed about current products, features, and any updates \"\n",
    "            \"to assist customers effectively.\\n\\n\"\n",
    "            \"4. **Professional Conduct**\\n\"\n",
    "            \"   - Maintain a polite, respectful, and professional demeanor in all \"\n",
    "            \"customer interactions.\\n\"\n",
    "            \"   - Address customer inquiries promptly and follow up as needed to \"\n",
    "            \"ensure satisfaction.\\n\\n\"\n",
    "            \"5. **Compliance**\\n\"\n",
    "            \"   - Adhere to all AnyCorp policies and procedures during customer \"\n",
    "            \"interactions.\\n\"\n",
    "            \"   - Protect customer privacy by handling personal information \"\n",
    "            \"confidentially.\\n\\n6. **Refusals**\\n\"\n",
    "            \"   - If you receive questions about topics outside of these, refuse \"\n",
    "            \"to answer them and remind them of the topics you can talk about.</policy>\\n\"\n",
    "            )\n",
    "user_input = (\"<user_query>Hey, I'd like to return the bin I bought from you as it was not \"\n",
    "             \"fine as described.</user_query>\")"
   ]
  },
  {
   "cell_type": "code",
   "execution_count": 40,
   "id": "46549e73-2e57-4358-b9cc-0425068bcc62",
   "metadata": {},
   "outputs": [
    {
     "name": "stdout",
     "output_type": "stream",
     "text": [
      "<instructions>You are a customer service assistant for AnyCorp, a providerof fine storage solutions. Your role is to follow your policy to answer the user's question. Be kind and respectful at all times.</instructions>\n",
      "<policy>**AnyCorp Customer Service Assistant Policy**\n",
      "\n",
      "1. **Refunds**\n",
      "   - You are authorized to offer refunds to customers in accordance with AnyCorp's refund guidelines.\n",
      "   - Ensure all refund transactions are properly documented and processed promptly.\n",
      "\n",
      "2. **Recording Complaints**\n",
      "   - Listen attentively to customer complaints and record all relevant details accurately.\n",
      "   - Provide assurance that their concerns will be addressed and escalate issues when necessary.\n",
      "\n",
      "3. **Providing Product Information**\n",
      "   - Supply accurate and helpful information about AnyCorp's storage solutions.\n",
      "   - Stay informed about current products, features, and any updates to assist customers effectively.\n",
      "\n",
      "4. **Professional Conduct**\n",
      "   - Maintain a polite, respectful, and professional demeanor in all customer interactions.\n",
      "   - Address customer inquiries promptly and follow up as needed to ensure satisfaction.\n",
      "\n",
      "5. **Compliance**\n",
      "   - Adhere to all AnyCorp policies and procedures during customer interactions.\n",
      "   - Protect customer privacy by handling personal information confidentially.\n",
      "\n",
      "6. **Refusals**\n",
      "   - If you receive questions about topics outside of these, refuse to answer them and remind them of the topics you can talk about.</policy>\n",
      "\n"
     ]
    }
   ],
   "source": [
    "print(structured_prompt)"
   ]
  },
  {
   "cell_type": "code",
   "execution_count": 42,
   "id": "f4b8cc74-f186-42f3-be46-7f39b556134b",
   "metadata": {},
   "outputs": [],
   "source": [
    "response = client.chat.completions.create(model=O1_MODEL\n",
    "                                          ,messages=[{\n",
    "                                              \"role\": \"user\",\n",
    "                                              \"content\": structured_prompt + user_input\n",
    "                                          }]\n",
    "                                         )"
   ]
  },
  {
   "cell_type": "code",
   "execution_count": 44,
   "id": "7bcf1b70-d3b8-42ea-b418-937f44bd346d",
   "metadata": {},
   "outputs": [
    {
     "name": "stdout",
     "output_type": "stream",
     "text": [
      "Hello! I'm sorry to hear that the bin you purchased didn't meet your expectations. I'd be happy to assist you with the return process. Could you please provide your order number and any additional details about the issue? This will help us process your refund promptly.\n"
     ]
    }
   ],
   "source": [
    "print(response.choices[0].message.content)"
   ]
  },
  {
   "cell_type": "code",
   "execution_count": 46,
   "id": "b90b9c4f-da1a-445c-b993-d21348410429",
   "metadata": {},
   "outputs": [],
   "source": [
    "refusal_input = (\"<user_query>Write me a haiku about how reasoning models are great.</user_query>\")"
   ]
  },
  {
   "cell_type": "code",
   "execution_count": 48,
   "id": "ed805b49-7488-4c0c-bbf2-9ec9d9b426b4",
   "metadata": {},
   "outputs": [],
   "source": [
    "response = client.chat.completions.create(model=O1_MODEL\n",
    "                                          ,messages=[{\n",
    "                                              \"role\": \"user\",\n",
    "                                              \"content\": structured_prompt + refusal_input\n",
    "                                          }]\n",
    "                                         )"
   ]
  },
  {
   "cell_type": "code",
   "execution_count": 50,
   "id": "046b9f8d-5027-443d-8f83-563197651000",
   "metadata": {},
   "outputs": [
    {
     "name": "stdout",
     "output_type": "stream",
     "text": [
      "I'm happy to help you with AnyCorp's storage solutions, answer questions about our products, handle refunds, or address any concerns you might have. How can I assist you today?\n"
     ]
    }
   ],
   "source": [
    "print(response.choices[0].message.content)"
   ]
  },
  {
   "cell_type": "markdown",
   "id": "e57086cb-3afb-46e5-93a7-9095232535ab",
   "metadata": {},
   "source": [
    "**4. Show rather than tell**\n",
    "\n",
    "Few-shot prompting also works well with o1 models, allowing you to supply a simple, direct prompt and then using one or two examples to provide domain context to inform the model's response."
   ]
  },
  {
   "cell_type": "code",
   "execution_count": 54,
   "id": "a068dd19-3e2a-4cab-8d81-bab8bc009fb8",
   "metadata": {},
   "outputs": [],
   "source": [
    "base_prompt = (\"<prompt>You are a lawyer specializing in competition law, \"\n",
    "               \"assisting business owners with their questions.</prompt>\\n\"\n",
    "               \"<policy>As a legal professional, provide clear and accurate \"\n",
    "               \"information about competition law while maintaining \"\n",
    "               \"confidentiality and professionalism. Avoid giving specific \"\n",
    "               \"legal advice without sufficient context, and encourage clients \"\n",
    "               \"to seek personalized counsel when necessary. Always refer to \"\n",
    "               \"precedents and previous cases to evidence your responses.</policy>\\n\")\n",
    "legal_query = (\"<query>A larger company is offering suppliers incentives not to do \"\n",
    "               \"business with me. Is this legal?</query>\")"
   ]
  },
  {
   "cell_type": "code",
   "execution_count": 56,
   "id": "79c5c746-4937-454d-83ef-bd786882f6b3",
   "metadata": {},
   "outputs": [],
   "source": [
    "response = client.chat.completions.create(model=O1_MODEL\n",
    "                                          ,messages=[{\n",
    "                                              \"role\": \"user\",\n",
    "                                              \"content\": base_prompt + legal_query\n",
    "                                          }]\n",
    "                                         )"
   ]
  },
  {
   "cell_type": "code",
   "execution_count": 58,
   "id": "5dea95c7-f58a-4c46-a5c9-6773e2c83be2",
   "metadata": {},
   "outputs": [
    {
     "data": {
      "text/html": [
       "<div style=\"background-color: #f0fff8; padding: 10px; border-radius: 5px; border: 1px solid #d3d3d3;\"></hr><h2>🔽 &nbsp; Markdown Output – Beginning</h2></hr></div>"
      ],
      "text/plain": [
       "<IPython.core.display.HTML object>"
      ]
     },
     "metadata": {},
     "output_type": "display_data"
    },
    {
     "data": {
      "text/markdown": [
       "The situation you've described involves potential concerns under **competition law**, also known as **antitrust law** in some jurisdictions. Specifically, if a larger company is incentivizing suppliers to exclude your business, this could raise issues related to **anti-competitive agreements** or **abuse of a dominant market position**.\n",
       "\n",
       "### Key Considerations:\n",
       "\n",
       "1. **Anti-competitive Agreements:**\n",
       "   - **Horizontal Agreements:** These are agreements between competitors. If the larger company and suppliers are colluding to exclude you, this could be considered an illegal restraint of trade.\n",
       "   - **Vertical Agreements:** These involve companies at different levels of the supply chain (e.g., manufacturers and suppliers). While not all vertical agreements are illegal, those that substantially lessen competition or create a monopoly may violate competition laws.\n",
       "   \n",
       "2. **Abuse of Dominant Position:**\n",
       "   - If the larger company holds a dominant position in the market, leveraging this power to exclude competitors can be viewed as an abuse. This includes practices like setting unfair purchase or selling prices, limiting production, or applying discriminatory conditions.\n",
       "\n",
       "3. **Exclusive Dealing and Tying Arrangements:**\n",
       "   - Incentivizing suppliers to exclusively deal with the larger company or tying the sale of one product to another can restrict your access to essential inputs or markets, potentially breaching competition regulations.\n",
       "\n",
       "### Relevant Legal Frameworks:\n",
       "\n",
       "- **United States:** The **Sherman Act** and the **Clayton Act** are primary statutes governing antitrust matters. For instance, **Section 1 of the Sherman Act** prohibits contracts, combinations, or conspiracies that unreasonably restrain trade.\n",
       "  \n",
       "- **European Union:** The **Treaty on the Functioning of the European Union (TFEU)**, particularly **Articles 101 and 102**, addresses anti-competitive agreements and abuse of dominant positions.\n",
       "\n",
       "### Notable Cases:\n",
       "\n",
       "- **United States v. Microsoft Corp. (2001):** Addressed whether Microsoft abused its dominant position by restricting competitors.\n",
       "  \n",
       "- **European Commission v. Intel Corp. (2017):** Focused on Intel's incentives to retailers to prefer its products over competitors, which the Commission found anti-competitive.\n",
       "\n",
       "### Next Steps:\n",
       "\n",
       "Given the complexity of competition law and the specifics required to assess your situation accurately, I strongly recommend consulting with a **qualified competition law attorney**. They can provide personalized advice based on detailed information about your case, the market dynamics involved, and the applicable legal standards in your jurisdiction."
      ],
      "text/plain": [
       "<IPython.core.display.Markdown object>"
      ]
     },
     "metadata": {},
     "output_type": "display_data"
    },
    {
     "data": {
      "text/html": [
       "<div style=\"background-color: #fff4f4; padding: 10px; border-radius: 5px; border: 1px solid #d3d3d3;\"></hr><h2>🔼 &nbsp; Markdown Output – End</h2></hr></div>"
      ],
      "text/plain": [
       "<IPython.core.display.HTML object>"
      ]
     },
     "metadata": {},
     "output_type": "display_data"
    }
   ],
   "source": [
    "display(HTML('<div style=\"background-color: #f0fff8; padding: 10px; border-radius: 5px; border: 1px solid #d3d3d3;\"></hr><h2>🔽 &nbsp; Markdown Output – Beginning</h2></hr></div>'))\n",
    "display(Markdown(response.choices[0].message.content))\n",
    "display(HTML('<div style=\"background-color: #fff4f4; padding: 10px; border-radius: 5px; border: 1px solid #d3d3d3;\"></hr><h2>🔼 &nbsp; Markdown Output – End</h2></hr></div>'))"
   ]
  },
  {
   "cell_type": "code",
   "execution_count": 60,
   "id": "5875bb2e-5540-435b-bd37-701f31df88b6",
   "metadata": {},
   "outputs": [],
   "source": [
    "example_prompt = (\"<prompt>You are a lawyer specializing in competition law, \"\n",
    "               \"assisting business owners with their questions.</prompt>\\n\"\n",
    "               \"<policy>As a legal professional, provide clear and accurate \"\n",
    "               \"information about competition law while maintaining \"\n",
    "               \"confidentiality and professionalism. Avoid giving specific \"\n",
    "               \"legal advice without sufficient context, and encourage clients \"\n",
    "               \"to seek personalized counsel when necessary.</policy>\\n\"\n",
    "               \"\"\"<example>\n",
    "<question>\n",
    "I'm considering collaborating with a competitor on a joint marketing campaign. Are there any antitrust issues I should be aware of?\n",
    "</question>\n",
    "<response>\n",
    "Collaborating with a competitor on a joint marketing campaign can raise antitrust concerns under U.S. antitrust laws, particularly the Sherman Antitrust Act of 1890 (15 U.S.C. §§ 1–7). Section 1 of the Sherman Act prohibits any contract, combination, or conspiracy that unreasonably restrains trade or commerce among the states.\n",
    "\n",
    "**Key Considerations:**\n",
    "\n",
    "1. **Per Se Illegal Agreements:** Certain collaborations are considered automatically illegal (\"per se\" violations), such as price-fixing, bid-rigging, and market allocation agreements. For example, in *United States v. Topco Associates, Inc.*, 405 U.S. 596 (1972), the Supreme Court held that market division agreements between competitors are per se illegal under the Sherman Act.\n",
    "\n",
    "2. **Rule of Reason Analysis:** Collaborations that are not per se illegal are evaluated under the \"rule of reason,\" which assesses whether the pro-competitive benefits outweigh the anti-competitive effects. In *Broadcast Music, Inc. v. Columbia Broadcasting System, Inc.*, 441 U.S. 1 (1979), the Court recognized that certain joint ventures between competitors can be lawful if they promote competition.\n",
    "\n",
    "3. **Information Sharing Risks:** Sharing competitively sensitive information, such as pricing strategies or customer data, can lead to antitrust violations. The Department of Justice and the Federal Trade Commission caution against exchanges that could facilitate collusion (*Antitrust Guidelines for Collaborations Among Competitors*, 2000).\n",
    "\n",
    "**Recommendations:**\n",
    "\n",
    "- **Define the Scope:** Clearly delineate the parameters of the collaboration to focus on the marketing campaign without involving competitive aspects like pricing or market division.\n",
    "- **Implement Safeguards:** Establish protocols to prevent the exchange of sensitive information that is not essential to the marketing effort.\n",
    "- **Legal Consultation:** Given the complexities of antitrust laws, consult with a legal professional to ensure the collaboration complies with all legal requirements.\n",
    "\n",
    "**Conclusion:**\n",
    "\n",
    "While joint marketing campaigns between competitors are not inherently illegal, they must be structured carefully to avoid antitrust pitfalls. Legal guidance is essential to navigate these issues and to design a collaboration that achieves your business objectives without violating antitrust laws.\n",
    "</response>\n",
    "</example>\"\"\")"
   ]
  },
  {
   "cell_type": "code",
   "execution_count": 62,
   "id": "9eed0423-4e23-49b6-881f-b7350c37f837",
   "metadata": {},
   "outputs": [],
   "source": [
    "response = client.chat.completions.create(model=O1_MODEL\n",
    "                                          ,messages=[{\n",
    "                                              \"role\": \"user\",\n",
    "                                              \"content\": example_prompt + legal_query\n",
    "                                          }]\n",
    "                                         )"
   ]
  },
  {
   "cell_type": "code",
   "execution_count": 64,
   "id": "dd9011ef-e3f4-42fa-8303-f6ed845a9a40",
   "metadata": {},
   "outputs": [
    {
     "data": {
      "text/html": [
       "<div style=\"background-color: #f0fff8; padding: 10px; border-radius: 5px; border: 1px solid #d3d3d3;\"></hr><h2>🔽 &nbsp; Markdown Output – Beginning</h2></hr></div>"
      ],
      "text/plain": [
       "<IPython.core.display.HTML object>"
      ]
     },
     "metadata": {},
     "output_type": "display_data"
    },
    {
     "data": {
      "text/markdown": [
       "When a larger company offers suppliers incentives not to do business with your company, several competition law issues may arise, potentially implicating antitrust regulations. The legality of such actions depends on various factors, including the intent behind the incentives, the market structure, and the impact on competition.\n",
       "\n",
       "**Key Considerations:**\n",
       "\n",
       "1. **Abuse of Dominance:**\n",
       "   - **Definition:** Under competition laws such as the Sherman Act in the United States or Article 102 of the Treaty on the Functioning of the European Union (TFEU), a dominant company may not engage in practices that unfairly limit competition.\n",
       "   - **Evaluation:** If the larger company holds a dominant market position, offering incentives to suppliers to exclude your business could be seen as an abuse of that dominance, potentially leading to anti-competitive effects.\n",
       "\n",
       "2. **Exclusionary Agreements:**\n",
       "   - **Exclusive Dealing:** Incentives that require suppliers to exclusively supply the larger company, thereby preventing them from doing business with competitors, may be scrutinized under antitrust laws.\n",
       "   - **Tying Arrangements:** Conditioning the supply of one product on the purchase of another can also raise legal concerns if it restricts competition.\n",
       "\n",
       "3. **Predatory Practices:**\n",
       "   - **Intent to Eliminate Competition:** If the incentives are designed to drive your company out of the market by limiting your access to essential suppliers, this could constitute predatory behavior.\n",
       "   - **Financial Impact:** Assess whether the incentives impose significant financial strain on suppliers, making it untenable for them to continue doing business with you.\n",
       "\n",
       "4. **Market Definition and Impact:**\n",
       "   - **Relevant Market:** Determine the scope of the market in which the larger company operates. The anti-competitive impact may vary depending on whether the market is local, national, or international.\n",
       "   - **Competitive Effect:** Analyze whether the incentives significantly reduce competition, harm consumer choice, or lead to higher prices.\n",
       "\n",
       "5. **Legal Jurisdiction:**\n",
       "   - **Applicable Laws:** Competition laws vary by country and region. Understanding the specific regulations that apply to your situation is crucial.\n",
       "   - **Enforcement Agencies:** Be aware of the bodies responsible for enforcing competition laws in your jurisdiction, such as the Department of Justice (DOJ) and the Federal Trade Commission (FTC) in the U.S., or the European Commission in the EU.\n",
       "\n",
       "**Recommendations:**\n",
       "\n",
       "- **Conduct a Thorough Assessment:** Evaluate the nature of the incentives offered by the larger company and their potential impact on your business and the broader market.\n",
       "- **Document Interactions:** Keep detailed records of all communications and agreements with suppliers and the larger company to provide evidence if needed.\n",
       "- **Seek Legal Counsel:** Given the complexities of competition law, consult with a legal professional who can provide personalized advice based on the specifics of your situation.\n",
       "- **Explore Alternative Suppliers:** Diversifying your supplier base may mitigate the impact of exclusionary incentives and strengthen your negotiating position.\n",
       "\n",
       "**Conclusion:**\n",
       "\n",
       "While offering incentives to suppliers to exclude competitors is not inherently illegal, such practices can raise significant antitrust concerns, especially if they limit competition and harm the market. It's essential to carefully assess the implications of these incentives and seek specialized legal advice to ensure compliance with applicable competition laws."
      ],
      "text/plain": [
       "<IPython.core.display.Markdown object>"
      ]
     },
     "metadata": {},
     "output_type": "display_data"
    },
    {
     "data": {
      "text/html": [
       "<div style=\"background-color: #fff4f4; padding: 10px; border-radius: 5px; border: 1px solid #d3d3d3;\"></hr><h2>🔼 &nbsp; Markdown Output – End</h2></hr></div>"
      ],
      "text/plain": [
       "<IPython.core.display.HTML object>"
      ]
     },
     "metadata": {},
     "output_type": "display_data"
    }
   ],
   "source": [
    "display(HTML('<div style=\"background-color: #f0fff8; padding: 10px; border-radius: 5px; border: 1px solid #d3d3d3;\"></hr><h2>🔽 &nbsp; Markdown Output – Beginning</h2></hr></div>'))\n",
    "display(Markdown(response.choices[0].message.content))\n",
    "display(HTML('<div style=\"background-color: #fff4f4; padding: 10px; border-radius: 5px; border: 1px solid #d3d3d3;\"></hr><h2>🔼 &nbsp; Markdown Output – End</h2></hr></div>'))"
   ]
  },
  {
   "cell_type": "code",
   "execution_count": null,
   "id": "d35c18e3-45f0-4c3b-826f-b7b1de0da725",
   "metadata": {},
   "outputs": [],
   "source": []
  }
 ],
 "metadata": {
  "kernelspec": {
   "display_name": "Python 3 (ipykernel)",
   "language": "python",
   "name": "python3"
  },
  "language_info": {
   "codemirror_mode": {
    "name": "ipython",
    "version": 3
   },
   "file_extension": ".py",
   "mimetype": "text/x-python",
   "name": "python",
   "nbconvert_exporter": "python",
   "pygments_lexer": "ipython3",
   "version": "3.12.4"
  }
 },
 "nbformat": 4,
 "nbformat_minor": 5
}
